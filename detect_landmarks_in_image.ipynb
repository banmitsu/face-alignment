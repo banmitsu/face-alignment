{
 "cells": [
  {
   "cell_type": "code",
   "execution_count": null,
   "metadata": {},
   "outputs": [],
   "source": [
    "import face_alignment\n",
    "from skimage import io\n",
    "\n",
    "fa = face_alignment.FaceAlignment(face_alignment.LandmarksType._2D, enable_cuda=True, flip_input=False)\n",
    "\n",
    "input = io.imread('./test/assets/aflw-test.jpg')\n",
    "preditions = fa.get_landmarks(input)"
   ]
  },
  {
   "cell_type": "code",
   "execution_count": null,
   "metadata": {},
   "outputs": [],
   "source": [
    "import numpy as np\n",
    "from mpl_toolkits.mplot3d import Axes3D\n",
    "import matplotlib.pyplot as plt\n",
    "from skimage import io"
   ]
  },
  {
   "cell_type": "code",
   "execution_count": null,
   "metadata": {},
   "outputs": [],
   "source": [
    "#fig = plt.figure(figsize=plt.figaspect(.5))\n",
    "fig = plt.figure(figsize=(24, 18))\n",
    "ax = fig.add_subplot(1, 2, 1)\n",
    "ax.imshow(input)\n",
    "\n",
    "for i in range(len(preditions)):\n",
    "    preds = fa.get_landmarks(input)[i]\n",
    "    \n",
    "    ax.plot(preds[0:17,0],preds[0:17,1],marker='o',markersize=5,linestyle='-',color='w',lw=2)\n",
    "    ax.plot(preds[17:22,0],preds[17:22,1],marker='o',markersize=5,linestyle='-',color='w',lw=2)\n",
    "    ax.plot(preds[22:27,0],preds[22:27,1],marker='o',markersize=5,linestyle='-',color='w',lw=2)\n",
    "    ax.plot(preds[27:31,0],preds[27:31,1],marker='o',markersize=5,linestyle='-',color='w',lw=2)\n",
    "    ax.plot(preds[31:36,0],preds[31:36,1],marker='o',markersize=5,linestyle='-',color='w',lw=2)\n",
    "    ax.plot(preds[36:42,0],preds[36:42,1],marker='o',markersize=5,linestyle='-',color='w',lw=2)\n",
    "    ax.plot(preds[42:48,0],preds[42:48,1],marker='o',markersize=5,linestyle='-',color='w',lw=2)\n",
    "    ax.plot(preds[48:60,0],preds[48:60,1],marker='o',markersize=5,linestyle='-',color='w',lw=2)\n",
    "    ax.plot(preds[60:68,0],preds[60:68,1],marker='o',markersize=5,linestyle='-',color='w',lw=2) \n",
    "\n",
    "ax.axis('off')\n",
    "\n",
    "plt.show()"
   ]
  }
 ],
 "metadata": {
  "kernelspec": {
   "display_name": "Python 2",
   "language": "python",
   "name": "python2"
  },
  "language_info": {
   "codemirror_mode": {
    "name": "ipython",
    "version": 2
   },
   "file_extension": ".py",
   "mimetype": "text/x-python",
   "name": "python",
   "nbconvert_exporter": "python",
   "pygments_lexer": "ipython2",
   "version": "2.7.12"
  }
 },
 "nbformat": 4,
 "nbformat_minor": 2
}
